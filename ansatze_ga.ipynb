{
 "cells": [
  {
   "cell_type": "code",
   "execution_count": 1,
   "metadata": {
    "colab": {
     "base_uri": "https://localhost:8080/",
     "height": 1000
    },
    "id": "YX7DTu8dpf8M",
    "outputId": "d89a9ecc-c311-4b69-b696-f0bcddeed127",
    "scrolled": true,
    "tags": []
   },
   "outputs": [
    {
     "name": "stdout",
     "output_type": "stream",
     "text": [
      "Defaulting to user installation because normal site-packages is not writeable\n",
      "Requirement already satisfied: networkx in /opt/tljh/user/lib/python3.10/site-packages (3.1)\n",
      "Requirement already satisfied: ply in /home/jupyter-atiwari/.local/lib/python3.10/site-packages (3.11)\n",
      "Requirement already satisfied: cirq in /home/jupyter-atiwari/.local/lib/python3.10/site-packages (1.4.1)\n",
      "Requirement already satisfied: cirq-aqt==1.4.1 in /home/jupyter-atiwari/.local/lib/python3.10/site-packages (from cirq) (1.4.1)\n",
      "Requirement already satisfied: cirq-core==1.4.1 in /home/jupyter-atiwari/.local/lib/python3.10/site-packages (from cirq) (1.4.1)\n",
      "Requirement already satisfied: cirq-google==1.4.1 in /home/jupyter-atiwari/.local/lib/python3.10/site-packages (from cirq) (1.4.1)\n",
      "Requirement already satisfied: cirq-ionq==1.4.1 in /home/jupyter-atiwari/.local/lib/python3.10/site-packages (from cirq) (1.4.1)\n",
      "Requirement already satisfied: cirq-pasqal==1.4.1 in /home/jupyter-atiwari/.local/lib/python3.10/site-packages (from cirq) (1.4.1)\n",
      "Requirement already satisfied: cirq-rigetti==1.4.1 in /home/jupyter-atiwari/.local/lib/python3.10/site-packages (from cirq) (1.4.1)\n",
      "Requirement already satisfied: cirq-web==1.4.1 in /home/jupyter-atiwari/.local/lib/python3.10/site-packages (from cirq) (1.4.1)\n",
      "Requirement already satisfied: requests~=2.18 in /home/jupyter-atiwari/.local/lib/python3.10/site-packages (from cirq-aqt==1.4.1->cirq) (2.32.3)\n",
      "Requirement already satisfied: attrs>=21.3.0 in /opt/tljh/user/lib/python3.10/site-packages (from cirq-core==1.4.1->cirq) (23.1.0)\n",
      "Requirement already satisfied: duet>=0.2.8 in /home/jupyter-atiwari/.local/lib/python3.10/site-packages (from cirq-core==1.4.1->cirq) (0.2.9)\n",
      "Requirement already satisfied: matplotlib~=3.0 in /opt/tljh/user/lib/python3.10/site-packages (from cirq-core==1.4.1->cirq) (3.7.2)\n",
      "Requirement already satisfied: numpy~=1.22 in /opt/tljh/user/lib/python3.10/site-packages (from cirq-core==1.4.1->cirq) (1.25.2)\n",
      "Requirement already satisfied: pandas in /opt/tljh/user/lib/python3.10/site-packages (from cirq-core==1.4.1->cirq) (2.1.1)\n",
      "Requirement already satisfied: sortedcontainers~=2.0 in /home/jupyter-atiwari/.local/lib/python3.10/site-packages (from cirq-core==1.4.1->cirq) (2.4.0)\n",
      "Requirement already satisfied: scipy~=1.0 in /home/jupyter-atiwari/.local/lib/python3.10/site-packages (from cirq-core==1.4.1->cirq) (1.15.2)\n",
      "Requirement already satisfied: sympy in /opt/tljh/user/lib/python3.10/site-packages (from cirq-core==1.4.1->cirq) (1.12)\n",
      "Requirement already satisfied: typing-extensions>=4.2 in /home/jupyter-atiwari/.local/lib/python3.10/site-packages (from cirq-core==1.4.1->cirq) (4.12.2)\n",
      "Requirement already satisfied: tqdm in /opt/tljh/user/lib/python3.10/site-packages (from cirq-core==1.4.1->cirq) (4.65.0)\n",
      "Requirement already satisfied: google-api-core>=1.14.0 in /home/jupyter-atiwari/.local/lib/python3.10/site-packages (from google-api-core[grpc]>=1.14.0->cirq-google==1.4.1->cirq) (2.24.1)\n",
      "Requirement already satisfied: proto-plus>=1.20.0 in /home/jupyter-atiwari/.local/lib/python3.10/site-packages (from cirq-google==1.4.1->cirq) (1.26.0)\n",
      "Requirement already satisfied: protobuf<5.0.0,>=3.15.0 in /opt/tljh/user/lib/python3.10/site-packages (from cirq-google==1.4.1->cirq) (4.23.4)\n",
      "Requirement already satisfied: pyquil<5.0.0,>=4.11.0 in /home/jupyter-atiwari/.local/lib/python3.10/site-packages (from cirq-rigetti==1.4.1->cirq) (4.16.0)\n",
      "Requirement already satisfied: googleapis-common-protos<2.0.dev0,>=1.56.2 in /home/jupyter-atiwari/.local/lib/python3.10/site-packages (from google-api-core>=1.14.0->google-api-core[grpc]>=1.14.0->cirq-google==1.4.1->cirq) (1.68.0)\n",
      "Requirement already satisfied: google-auth<3.0.dev0,>=2.14.1 in /opt/tljh/user/lib/python3.10/site-packages (from google-api-core>=1.14.0->google-api-core[grpc]>=1.14.0->cirq-google==1.4.1->cirq) (2.27.0)\n",
      "Requirement already satisfied: grpcio<2.0dev,>=1.33.2 in /home/jupyter-atiwari/.local/lib/python3.10/site-packages (from google-api-core[grpc]>=1.14.0->cirq-google==1.4.1->cirq) (1.70.0)\n",
      "Requirement already satisfied: grpcio-status<2.0.dev0,>=1.33.2 in /home/jupyter-atiwari/.local/lib/python3.10/site-packages (from google-api-core[grpc]>=1.14.0->cirq-google==1.4.1->cirq) (1.62.3)\n",
      "Requirement already satisfied: contourpy>=1.0.1 in /opt/tljh/user/lib/python3.10/site-packages (from matplotlib~=3.0->cirq-core==1.4.1->cirq) (1.1.0)\n",
      "Requirement already satisfied: cycler>=0.10 in /opt/tljh/user/lib/python3.10/site-packages (from matplotlib~=3.0->cirq-core==1.4.1->cirq) (0.11.0)\n",
      "Requirement already satisfied: fonttools>=4.22.0 in /opt/tljh/user/lib/python3.10/site-packages (from matplotlib~=3.0->cirq-core==1.4.1->cirq) (4.42.1)\n",
      "Requirement already satisfied: kiwisolver>=1.0.1 in /opt/tljh/user/lib/python3.10/site-packages (from matplotlib~=3.0->cirq-core==1.4.1->cirq) (1.4.5)\n",
      "Requirement already satisfied: packaging>=20.0 in /opt/tljh/user/lib/python3.10/site-packages (from matplotlib~=3.0->cirq-core==1.4.1->cirq) (23.2)\n",
      "Requirement already satisfied: pillow>=6.2.0 in /opt/tljh/user/lib/python3.10/site-packages (from matplotlib~=3.0->cirq-core==1.4.1->cirq) (10.0.0)\n",
      "Requirement already satisfied: pyparsing<3.1,>=2.3.1 in /opt/tljh/user/lib/python3.10/site-packages (from matplotlib~=3.0->cirq-core==1.4.1->cirq) (3.0.9)\n",
      "Requirement already satisfied: python-dateutil>=2.7 in /opt/tljh/user/lib/python3.10/site-packages (from matplotlib~=3.0->cirq-core==1.4.1->cirq) (2.8.2)\n",
      "Requirement already satisfied: deprecated<2.0.0,>=1.2.14 in /home/jupyter-atiwari/.local/lib/python3.10/site-packages (from pyquil<5.0.0,>=4.11.0->cirq-rigetti==1.4.1->cirq) (1.2.18)\n",
      "Requirement already satisfied: matplotlib-inline<0.2.0,>=0.1.7 in /home/jupyter-atiwari/.local/lib/python3.10/site-packages (from pyquil<5.0.0,>=4.11.0->cirq-rigetti==1.4.1->cirq) (0.1.7)\n",
      "Requirement already satisfied: qcs-sdk-python>=0.20.1 in /home/jupyter-atiwari/.local/lib/python3.10/site-packages (from pyquil<5.0.0,>=4.11.0->cirq-rigetti==1.4.1->cirq) (0.21.12)\n",
      "Requirement already satisfied: quil>=0.15.2 in /home/jupyter-atiwari/.local/lib/python3.10/site-packages (from pyquil<5.0.0,>=4.11.0->cirq-rigetti==1.4.1->cirq) (0.15.3)\n",
      "Requirement already satisfied: rpcq<4.0.0,>=3.11.0 in /home/jupyter-atiwari/.local/lib/python3.10/site-packages (from pyquil<5.0.0,>=4.11.0->cirq-rigetti==1.4.1->cirq) (3.11.0)\n",
      "Requirement already satisfied: types-deprecated<2.0.0.0,>=1.2.9.3 in /home/jupyter-atiwari/.local/lib/python3.10/site-packages (from pyquil<5.0.0,>=4.11.0->cirq-rigetti==1.4.1->cirq) (1.2.15.20241117)\n",
      "Requirement already satisfied: charset-normalizer<4,>=2 in /opt/tljh/user/lib/python3.10/site-packages (from requests~=2.18->cirq-aqt==1.4.1->cirq) (3.1.0)\n",
      "Requirement already satisfied: idna<4,>=2.5 in /opt/tljh/user/lib/python3.10/site-packages (from requests~=2.18->cirq-aqt==1.4.1->cirq) (3.4)\n",
      "Requirement already satisfied: urllib3<3,>=1.21.1 in /opt/tljh/user/lib/python3.10/site-packages (from requests~=2.18->cirq-aqt==1.4.1->cirq) (1.26.15)\n",
      "Requirement already satisfied: certifi>=2017.4.17 in /opt/tljh/user/lib/python3.10/site-packages (from requests~=2.18->cirq-aqt==1.4.1->cirq) (2023.7.22)\n",
      "Requirement already satisfied: pytz>=2020.1 in /opt/tljh/user/lib/python3.10/site-packages (from pandas->cirq-core==1.4.1->cirq) (2023.3.post1)\n",
      "Requirement already satisfied: tzdata>=2022.1 in /opt/tljh/user/lib/python3.10/site-packages (from pandas->cirq-core==1.4.1->cirq) (2023.3)\n",
      "Requirement already satisfied: mpmath>=0.19 in /opt/tljh/user/lib/python3.10/site-packages (from sympy->cirq-core==1.4.1->cirq) (1.3.0)\n",
      "Requirement already satisfied: wrapt<2,>=1.10 in /opt/tljh/user/lib/python3.10/site-packages (from deprecated<2.0.0,>=1.2.14->pyquil<5.0.0,>=4.11.0->cirq-rigetti==1.4.1->cirq) (1.14.1)\n",
      "Requirement already satisfied: cachetools<6.0,>=2.0.0 in /opt/tljh/user/lib/python3.10/site-packages (from google-auth<3.0.dev0,>=2.14.1->google-api-core>=1.14.0->google-api-core[grpc]>=1.14.0->cirq-google==1.4.1->cirq) (5.3.2)\n",
      "Requirement already satisfied: pyasn1-modules>=0.2.1 in /opt/tljh/user/lib/python3.10/site-packages (from google-auth<3.0.dev0,>=2.14.1->google-api-core>=1.14.0->google-api-core[grpc]>=1.14.0->cirq-google==1.4.1->cirq) (0.3.0)\n",
      "Requirement already satisfied: rsa<5,>=3.1.4 in /opt/tljh/user/lib/python3.10/site-packages (from google-auth<3.0.dev0,>=2.14.1->google-api-core>=1.14.0->google-api-core[grpc]>=1.14.0->cirq-google==1.4.1->cirq) (4.9)\n",
      "Requirement already satisfied: traitlets in /opt/tljh/user/lib/python3.10/site-packages (from matplotlib-inline<0.2.0,>=0.1.7->pyquil<5.0.0,>=4.11.0->cirq-rigetti==1.4.1->cirq) (5.9.0)\n",
      "Requirement already satisfied: six>=1.5 in /opt/tljh/user/lib/python3.10/site-packages (from python-dateutil>=2.7->matplotlib~=3.0->cirq-core==1.4.1->cirq) (1.16.0)\n",
      "Requirement already satisfied: qcs-api-client-common>=0.11.8 in /home/jupyter-atiwari/.local/lib/python3.10/site-packages (from qcs-sdk-python>=0.20.1->pyquil<5.0.0,>=4.11.0->cirq-rigetti==1.4.1->cirq) (0.11.8)\n",
      "Requirement already satisfied: msgpack<2.0,>=0.6 in /home/jupyter-atiwari/.local/lib/python3.10/site-packages (from rpcq<4.0.0,>=3.11.0->pyquil<5.0.0,>=4.11.0->cirq-rigetti==1.4.1->cirq) (1.1.0)\n",
      "Requirement already satisfied: python-rapidjson in /home/jupyter-atiwari/.local/lib/python3.10/site-packages (from rpcq<4.0.0,>=3.11.0->pyquil<5.0.0,>=4.11.0->cirq-rigetti==1.4.1->cirq) (1.20)\n",
      "Requirement already satisfied: pyzmq>=17 in /opt/tljh/user/lib/python3.10/site-packages (from rpcq<4.0.0,>=3.11.0->pyquil<5.0.0,>=4.11.0->cirq-rigetti==1.4.1->cirq) (25.1.1)\n",
      "Requirement already satisfied: ruamel.yaml in /opt/tljh/user/lib/python3.10/site-packages (from rpcq<4.0.0,>=3.11.0->pyquil<5.0.0,>=4.11.0->cirq-rigetti==1.4.1->cirq) (0.17.21)\n",
      "Requirement already satisfied: pyasn1<0.6.0,>=0.4.6 in /opt/tljh/user/lib/python3.10/site-packages (from pyasn1-modules>=0.2.1->google-auth<3.0.dev0,>=2.14.1->google-api-core>=1.14.0->google-api-core[grpc]>=1.14.0->cirq-google==1.4.1->cirq) (0.5.0)\n",
      "Requirement already satisfied: grpc-interceptor>=0.15.0 in /home/jupyter-atiwari/.local/lib/python3.10/site-packages (from qcs-api-client-common>=0.11.8->qcs-sdk-python>=0.20.1->pyquil<5.0.0,>=4.11.0->cirq-rigetti==1.4.1->cirq) (0.15.4)\n",
      "Requirement already satisfied: httpx>=0.27.0 in /home/jupyter-atiwari/.local/lib/python3.10/site-packages (from qcs-api-client-common>=0.11.8->qcs-sdk-python>=0.20.1->pyquil<5.0.0,>=4.11.0->cirq-rigetti==1.4.1->cirq) (0.28.1)\n",
      "Requirement already satisfied: ruamel.yaml.clib>=0.2.6 in /opt/tljh/user/lib/python3.10/site-packages (from ruamel.yaml->rpcq<4.0.0,>=3.11.0->pyquil<5.0.0,>=4.11.0->cirq-rigetti==1.4.1->cirq) (0.2.7)\n",
      "Requirement already satisfied: anyio in /opt/tljh/user/lib/python3.10/site-packages (from httpx>=0.27.0->qcs-api-client-common>=0.11.8->qcs-sdk-python>=0.20.1->pyquil<5.0.0,>=4.11.0->cirq-rigetti==1.4.1->cirq) (4.0.0)\n",
      "Requirement already satisfied: httpcore==1.* in /home/jupyter-atiwari/.local/lib/python3.10/site-packages (from httpx>=0.27.0->qcs-api-client-common>=0.11.8->qcs-sdk-python>=0.20.1->pyquil<5.0.0,>=4.11.0->cirq-rigetti==1.4.1->cirq) (1.0.7)\n",
      "Requirement already satisfied: h11<0.15,>=0.13 in /home/jupyter-atiwari/.local/lib/python3.10/site-packages (from httpcore==1.*->httpx>=0.27.0->qcs-api-client-common>=0.11.8->qcs-sdk-python>=0.20.1->pyquil<5.0.0,>=4.11.0->cirq-rigetti==1.4.1->cirq) (0.14.0)\n",
      "Requirement already satisfied: sniffio>=1.1 in /opt/tljh/user/lib/python3.10/site-packages (from anyio->httpx>=0.27.0->qcs-api-client-common>=0.11.8->qcs-sdk-python>=0.20.1->pyquil<5.0.0,>=4.11.0->cirq-rigetti==1.4.1->cirq) (1.3.0)\n",
      "Requirement already satisfied: exceptiongroup>=1.0.2 in /opt/tljh/user/lib/python3.10/site-packages (from anyio->httpx>=0.27.0->qcs-api-client-common>=0.11.8->qcs-sdk-python>=0.20.1->pyquil<5.0.0,>=4.11.0->cirq-rigetti==1.4.1->cirq) (1.1.3)\n",
      "\n",
      "\u001b[1m[\u001b[0m\u001b[34;49mnotice\u001b[0m\u001b[1;39;49m]\u001b[0m\u001b[39;49m A new release of pip is available: \u001b[0m\u001b[31;49m24.0\u001b[0m\u001b[39;49m -> \u001b[0m\u001b[32;49m25.0.1\u001b[0m\n",
      "\u001b[1m[\u001b[0m\u001b[34;49mnotice\u001b[0m\u001b[1;39;49m]\u001b[0m\u001b[39;49m To update, run: \u001b[0m\u001b[32;49mpip install --upgrade pip\u001b[0m\n"
     ]
    }
   ],
   "source": [
    "import warnings\n",
    "warnings.filterwarnings(\"ignore\", message=\"numpy.dtype size changed\")\n",
    "warnings.filterwarnings(\"ignore\", message=\"numpy.ufunc size changed\")\n",
    "\n",
    "!pip install networkx ply cirq\n",
    "\n",
    "import sys\n",
    "sys.meta_path[:] = [f for f in sys.meta_path if \"DaskFinder\" not in str(f)]\n",
    "\n",
    "import cirq\n",
    "import networkx as nx\n",
    "import random as rand\n",
    "import numpy as np\n",
    "import sympy as sp\n",
    "import matplotlib.pyplot as plt\n",
    "import numpy.random as npr"
   ]
  },
  {
   "cell_type": "markdown",
   "metadata": {
    "id": "tY96xsjflGAO"
   },
   "source": [
    "to build genome, we're looking to make a function that can convert a function with a defined mutation function $\\mu$ that maps from a type genome to genome, should i create a class? nah bad idea no reason to deal with that lmao. then we use a fitness function $\\nu$\n",
    "\n",
    "lol i made a class\n",
    "\n",
    "$\\mu: G \\mapsto G$: what am i supposed to d here lma\n",
    "uhhhh, make a"
   ]
  },
  {
   "cell_type": "code",
   "execution_count": 2,
   "metadata": {
    "id": "j6KsM9LUreR4",
    "tags": []
   },
   "outputs": [],
   "source": [
    "# hyper parameters\n",
    "\n",
    "MUT_CHANCE = 0.2\n",
    "EXPLORE = 0.2 # chance to add new gate\n",
    "\n",
    "GATES = [\"H\", \"Rx\", \"Ry\", \"Rz\", \"CNOT\", \"RZZ\"]"
   ]
  },
  {
   "cell_type": "code",
   "execution_count": 3,
   "metadata": {
    "id": "mRLhEx4qemDQ",
    "tags": []
   },
   "outputs": [],
   "source": [
    "import cirq\n",
    "import numpy as np\n",
    "from scipy.stats import norm\n",
    "\n",
    "def compute_bell_curve_proximity(\n",
    "    state_vector, \n",
    "    normalized_bell_mean: float = 0.5,  # Now an input in [0,1]\n",
    "    normalized_bell_std: float = 0.5,   # Now an input in [0,1]\n",
    "    num_shots: int = 1000\n",
    ") -> dict:\n",
    "    \"\"\"\n",
    "    Compute the proximity of a quantum circuit's generated states to a Bell curve distribution.\n",
    "    The inputs normalized_bell_mean and normalized_bell_std are now within [0,1], where:\n",
    "    - 0 corresponds to the first histogram bin, and 1 to the last bin.\n",
    "    - Standard deviation of 0 means minimal spread, 1 means full histogram range.\n",
    "    \"\"\"\n",
    "\n",
    "    def safe_log(x):\n",
    "        return np.log(x + 1e-10)\n",
    "\n",
    "    # Simulate the circuit\n",
    "    probabilities = np.abs(state_vector) ** 2\n",
    "    basis_indices = np.arange(len(probabilities))\n",
    "\n",
    "    # Sample measurements\n",
    "    measurement_results = np.random.choice(basis_indices, size=num_shots, p=probabilities)\n",
    "\n",
    "    # Compute histogram bins for scaling\n",
    "    quantum_hist, bin_edges = np.histogram(measurement_results, bins='auto', density=True)\n",
    "    bin_centers = (bin_edges[:-1] + bin_edges[1:]) / 2  \n",
    "\n",
    "    # Define bin range\n",
    "    min_bin, max_bin = bin_centers[0], bin_centers[-1]\n",
    "\n",
    "    # Reverse map the inputs to real values\n",
    "    bell_mean = min_bin + (normalized_bell_mean * (max_bin - min_bin))\n",
    "    bell_std = normalized_bell_std * (max_bin - min_bin)  # Scale std to range\n",
    "\n",
    "    # Generate reference Bell curve using interpreted values\n",
    "    bell_curve_samples = np.random.normal(\n",
    "        loc=bell_mean, \n",
    "        scale=bell_std, \n",
    "        size=num_shots\n",
    "    )\n",
    "\n",
    "    # Compute histograms\n",
    "    bell_hist, _ = np.histogram(bell_curve_samples, bins=bin_edges, density=True)\n",
    "\n",
    "    # Avoid division by zero\n",
    "    quantum_hist += 1e-10\n",
    "    bell_hist += 1e-10\n",
    "\n",
    "    # Normalize histograms\n",
    "    quantum_hist /= np.sum(quantum_hist)\n",
    "    bell_hist /= np.sum(bell_hist)\n",
    "\n",
    "    # KL Divergence\n",
    "    kl_divergence = np.sum(quantum_hist * safe_log(quantum_hist / bell_hist))\n",
    "\n",
    "    # Jensen-Shannon Divergence\n",
    "    m_hist = 0.5 * (quantum_hist + bell_hist)\n",
    "    js_divergence = 0.5 * (\n",
    "        np.sum(quantum_hist * safe_log(quantum_hist / m_hist)) +\n",
    "        np.sum(bell_hist * safe_log(bell_hist / m_hist))\n",
    "    )\n",
    "\n",
    "    # Wasserstein Distance\n",
    "    from scipy.stats import wasserstein_distance\n",
    "    ws_distance = wasserstein_distance(measurement_results, bell_curve_samples)\n",
    "\n",
    "    # Bell Curve Alignment Score\n",
    "    bell_curve_alignment_score = 1 / (1 + kl_divergence)\n",
    "\n",
    "    return {\n",
    "        'bell_mean': bell_mean,  # Now in real range\n",
    "        'bell_std': bell_std,    # Now in real range\n",
    "        'kl_divergence': kl_divergence,\n",
    "        'js_divergence': js_divergence,\n",
    "        'wasserstein_distance': ws_distance,\n",
    "        'bell_curve_alignment_score': bell_curve_alignment_score\n",
    "    }\n",
    "    \n",
    "from typing import List, Optional, Union\n",
    "\n",
    "def meyer_wallach_measure(state_vector) -> float:\n",
    "    \"\"\"\n",
    "    Calculate the Meyer-Wallach entanglement measure for a quantum circuit.\n",
    "\n",
    "    The Meyer-Wallach measure is a global entanglement measure that ranges from 0\n",
    "    (no entanglement) to 1 (maximal entanglement).\n",
    "\n",
    "    Args:\n",
    "        circuit: The cirq.Circuit to analyze\n",
    "        initial_state: Optional initial state vector. If None, |0...0⟩ is used.\n",
    "\n",
    "    Returns:\n",
    "        float: The Meyer-Wallach entanglement measure (between 0 and 1)\n",
    "    \"\"\"\n",
    "\n",
    "    import math as m\n",
    "    \n",
    "    n_qubits = m.floor(m.log2(state_vector.shape[0]))\n",
    "\n",
    "    if n_qubits == 0:\n",
    "        return 0.0\n",
    "\n",
    "    # Calculate the Meyer-Wallach measure\n",
    "    mw_sum = 0.0\n",
    "\n",
    "    for k in range(n_qubits):\n",
    "        # Calculate the reduced density matrix for qubit k\n",
    "        rho_k = reduced_density_matrix(state_vector, k, n_qubits)\n",
    "\n",
    "        # Calculate the purity of the reduced density matrix\n",
    "        purity = np.trace(rho_k @ rho_k).real\n",
    "\n",
    "        # Add to the sum\n",
    "        mw_sum += (1 - purity)\n",
    "\n",
    "    # Normalize by the number of qubits\n",
    "    meyer_wallach = mw_sum / n_qubits\n",
    "\n",
    "    return meyer_wallach\n",
    "\n",
    "\n",
    "def reduced_density_matrix(state_vector: np.ndarray,\n",
    "                           qubit_index: int,\n",
    "                           n_qubits: int) -> np.ndarray:\n",
    "    \"\"\"\n",
    "    Calculate the reduced density matrix for a specific qubit.\n",
    "\n",
    "    Args:\n",
    "        state_vector: The state vector of the full system\n",
    "        qubit_index: The index of the qubit to calculate the reduced density matrix for\n",
    "        n_qubits: Total number of qubits in the system\n",
    "\n",
    "    Returns:\n",
    "        np.ndarray: The 2x2 reduced density matrix for the specified qubit\n",
    "    \"\"\"\n",
    "    # Initialize the reduced density matrix\n",
    "    rho = np.zeros((2, 2), dtype=complex)\n",
    "\n",
    "    # Reshape the state vector as a multi-qubit state\n",
    "    state_tensor = state_vector.reshape([2] * n_qubits)\n",
    "\n",
    "    # Calculate the reduced density matrix elements\n",
    "    for i in range(2):\n",
    "        for j in range(2):\n",
    "            # Create slice objects for the target qubit\n",
    "            i_slice = slice(i, i+1)\n",
    "            j_slice = slice(j, j+1)\n",
    "\n",
    "            # Create a list of slice objects for all qubits\n",
    "            slices_i = [slice(None)] * n_qubits\n",
    "            slices_j = [slice(None)] * n_qubits\n",
    "\n",
    "            # Set the slice for the target qubit\n",
    "            slices_i[qubit_index] = i_slice\n",
    "            slices_j[qubit_index] = j_slice\n",
    "\n",
    "            # Calculate the reduced density matrix element\n",
    "            if i == j:\n",
    "                # Diagonal element\n",
    "                rho[i, j] = np.sum(np.abs(state_tensor[tuple(slices_i)])**2)\n",
    "            else:\n",
    "                # Off-diagonal element\n",
    "                state_i = state_tensor[tuple(slices_i)]\n",
    "                state_j = state_tensor[tuple(slices_j)]\n",
    "\n",
    "                # Calculate the overlap\n",
    "                for idx in np.ndindex(state_i.shape):\n",
    "                    idx_i = list(idx)\n",
    "                    idx_j = list(idx)\n",
    "\n",
    "                    # Set the slices for the full index\n",
    "                    full_idx_i = tuple(idx_i)\n",
    "                    full_idx_j = tuple(idx_j)\n",
    "\n",
    "                    # Calculate the contribution to the off-diagonal element\n",
    "                    rho[i, j] += np.conj(state_i[full_idx_i]) * state_j[full_idx_j]\n",
    "\n",
    "    return rho\n",
    "\n",
    "from scipy.stats import norm\n",
    "from scipy.optimize import minimize_scalar\n",
    "\n",
    "def skewed_normal(x, s, sigma=1.0):\n",
    "    # Avoid endpoints (x = 0 or 1) to prevent division by zero\n",
    "    x = np.clip(x, 1e-10, 1 - 1e-10)\n",
    "    z = np.log(x/(1-x))\n",
    "    # Use the scaled normal pdf and CDF:\n",
    "    pdf = 1.0/(sigma * np.sqrt(2*np.pi)) * np.exp(-0.5*(z/sigma)**2)\n",
    "    cdf = norm.cdf(s*(z/sigma))\n",
    "    return (2.0 / (x*(1-x))) * pdf * cdf\n",
    "\n",
    "def find_mode_brent(s, sigma):\n",
    "    res = minimize_scalar(lambda x: -skewed_normal(x, s, sigma),\n",
    "                          bounds=(1e-10, 1-1e-10),\n",
    "                          method='bounded')\n",
    "    mode = res.x\n",
    "    max_val = skewed_normal(mode, s, sigma)\n",
    "    return mode, max_val\n",
    "\n",
    "def normalized_skewed(x, s, sigma):\n",
    "    mode, max_val = find_mode_brent(s, sigma)\n",
    "    return 1.25 * (skewed_normal(x, s, sigma) / max_val) - 0.25"
   ]
  },
  {
   "cell_type": "code",
   "execution_count": 24,
   "metadata": {
    "tags": []
   },
   "outputs": [
    {
     "data": {
      "image/png": "[encoded data removed]",
      "text/plain": [
       "<Figure size 640x480 with 1 Axes>"
      ]
     },
     "metadata": {},
     "output_type": "display_data"
    }
   ],
   "source": [
    "import matplotlib.pyplot as plt\n",
    "xs = np.linspace(0.001, 0.999, 400)\n",
    "for s in [-2, 0, 2]:\n",
    "    plt.plot(xs, normalized_skewed(xs, s, sigma=0.5), label=f's = {s}')\n",
    "plt.xlabel('x')\n",
    "plt.ylabel('Density')\n",
    "plt.title('Skewed Normal Density on [0,1]')\n",
    "plt.legend()\n",
    "plt.show()"
   ]
  },
  {
   "cell_type": "code",
   "execution_count": 8,
   "metadata": {
    "tags": []
   },
   "outputs": [],
   "source": [
    "qubits = cirq.LineQubit.range(3)\n",
    "X = [sp.Symbol(f'x_{i}') for i in range(3)]\n",
    "circuit = cirq.Circuit(\n",
    "    *[cirq.H(qubit) for qubit in qubits],\n",
    "    *[cirq.Rx(rads=X[i])(qubits[i]) for i in range(len(qubits))]\n",
    ")\n",
    "\n",
    "sweeps = [cirq.Linspace(f\"x_{i}\", 0, 2 * np.pi, 6) for i in range(len(X))]\n",
    "t_sweep = sweeps.pop()\n",
    "while len(sweeps) > 0:\n",
    "    t_sweep = t_sweep * sweeps.pop()\n",
    "\n",
    "sim = cirq.Simulator()\n",
    "results = sim.simulate_sweep(circuit, params=t_sweep)"
   ]
  },
  {
   "cell_type": "code",
   "execution_count": 9,
   "metadata": {
    "tags": []
   },
   "outputs": [
    {
     "data": {
      "text/plain": [
       "{'bell_mean': 3.5,\n",
       " 'bell_std': 3.1818181818181817,\n",
       " 'kl_divergence': 0.3875125660374822,\n",
       " 'js_divergence': 0.12486920292348619,\n",
       " 'wasserstein_distance': 0.6656131808351506,\n",
       " 'bell_curve_alignment_score': 0.720714193497968}"
      ]
     },
     "execution_count": 9,
     "metadata": {},
     "output_type": "execute_result"
    }
   ],
   "source": [
    "type(results[0].final_state_vector)\n",
    "compute_bell_curve_proximity(results[0].final_state_vector)"
   ]
  },
  {
   "cell_type": "code",
   "execution_count": 81,
   "metadata": {
    "id": "F5VG5IsBnBWV",
    "tags": []
   },
   "outputs": [],
   "source": [
    "class Gate:\n",
    "    def __init__(self, gate, qubits, parameter):\n",
    "        \"\"\"\n",
    "        :param gate: enum, [H, Rx, Ry, Rz, CNOT, RZZ]\n",
    "        :param qubits: tuple (i_0: int,) for gate on qubits i\n",
    "        :param parameter: p: int U None, parameter to gate given by \\theta_p\n",
    "        :returns None\n",
    "        \"\"\"\n",
    "\n",
    "        self.gates = gate\n",
    "        self.qubits = qubits\n",
    "        self.parameter = parameter\n",
    "\n",
    "    def __str__(self):\n",
    "        return f\"Gate({GATES[self.gates]}, {self.qubits}, {self.parameter})\"\n",
    "\n",
    "    def __copy__(self):\n",
    "        return Gate(self.gates, self.qubits, self.parameter)\n",
    "\n",
    "    def __eq__(self, other):\n",
    "        return id(self) == id(self)\n",
    "\n",
    "class Gene:\n",
    "    def __init__(self, gates, n, p: int = None):\n",
    "        \"\"\"\n",
    "        :param gates: Array[Gate] gates in the genome\n",
    "        :param n: amount of qubits\n",
    "        :param p: highest number of parameters in the circuit (max param)\n",
    "        \"\"\"\n",
    "        self.gates = gates\n",
    "        self.n = n\n",
    "\n",
    "        # find max index parameter in gates\n",
    "        self.p = max([gate.parameter for gate in gates]) if len(gates) > 0 else 0\n",
    "\n",
    "    def add_gate(self, g):\n",
    "        self.gates.append(g)\n",
    "        self.p = max([gate.parameter for gate in self.gates])\n",
    "\n",
    "    def to_circuit(self):\n",
    "        c = cirq.Circuit()\n",
    "        qubits = cirq.LineQubit.range(self.n)\n",
    "        X = [sp.Symbol(f'x_{i}') for i in range(self.p + 1)]\n",
    "\n",
    "        for gate in self.gates:\n",
    "            qs = [qubits[q] for q in gate.qubits]\n",
    "            match gate.gates:\n",
    "                case 0:\n",
    "                    c.append(cirq.H(*qs))\n",
    "                case 1:\n",
    "                    c.append(cirq.Rx(rads=X[gate.parameter])(*qs))\n",
    "                case 2:\n",
    "                    c.append(cirq.Ry(rads=X[gate.parameter])(*qs))\n",
    "                case 3:\n",
    "                    c.append(cirq.Rz(rads=X[gate.parameter])(*qs))\n",
    "                case 4:\n",
    "                    c.append(cirq.CNOT(*qs))\n",
    "                case 5:\n",
    "                    c.append(cirq.ZZ(*qs) ** X[gate.parameter])\n",
    "\n",
    "        c.append(cirq.measure(*qubits, key='x'))\n",
    "\n",
    "        return c, X\n",
    "\n",
    "    def evaluate(self, W = [1e1, 1e2, 1e0, 1e2], P=[0.5, 0.5, 0, 0.75, 0, 0.75], o=False) -> int:\n",
    "        # P:[mean, std, \\alpha_0, \\sigma_0, \\alpha_1, \\sigma_1]\n",
    "        \n",
    "        circuit, X = self.to_circuit()\n",
    "        circuit = circuit[:-1]\n",
    "        \n",
    "        if len(circuit) == 0:\n",
    "            return 0.0\n",
    "        \n",
    "        sweeps = [cirq.Linspace(f\"x_{i}\", 0, 2 * np.pi, 6) for i in range(len(X))]\n",
    "        t_sweep = sweeps.pop()\n",
    "        while len(sweeps) > 0:\n",
    "            t_sweep = t_sweep * sweeps.pop()\n",
    "\n",
    "        sim = cirq.Simulator()\n",
    "        results = sim.simulate_sweep(circuit, params=t_sweep)\n",
    "    \n",
    "        divergence = []\n",
    "        mw_term = []\n",
    "        \n",
    "        for result in results:\n",
    "            if result.final_state_vector.shape[0] != 2**self.n:\n",
    "                raise ValueError(f\"State vector dimension {result.final_state_vector.shape[0]} does not match 2^{n_qubits}\")\n",
    "            \n",
    "            divergence.append(compute_bell_curve_proximity(result.final_state_vector, P[0], P[1])['bell_curve_alignment_score'])\n",
    "\n",
    "            mw_term.append(meyer_wallach_measure(result.final_state_vector))\n",
    "\n",
    "        divergence = normalized_skewed(sum(divergence) / sum(divergence), P[2], P[3])\n",
    "        mw_term = normalized_skewed(sum(mw_term) / len(mw_term), P[4], P[5])\n",
    "            \n",
    "        all_qubits = set(circuit.all_qubits())  # Get all qubits in the circuit\n",
    "        used_qubits = set()\n",
    "\n",
    "        for moment in circuit[:-1]:\n",
    "            for op in moment.operations:\n",
    "                used_qubits.update(op.qubits)\n",
    "\n",
    "        if o: print(f'kl-divergence: {divergence}, mw measure: {mw_term}, depth: {len(circuit)} -> {1 / len(circuit)}, unused qubits: {len(all_qubits - used_qubits)}')\n",
    "\n",
    "        return  W[0] * divergence + W[1] * mw_term + W[2] * (1 / len(circuit)) - W[3] * (len(all_qubits - used_qubits))\n",
    "\n",
    "    def mutate(self): # \\mu\n",
    "        def num_g(r, n = 3):\n",
    "            import math as m\n",
    "\n",
    "            sigmoid = lambda x: 1 / (1 + m.exp(-x))\n",
    "            return m.floor((n + 0.5) * sigmoid(2 * m.e * (r - 0.5)))\n",
    "\n",
    "        # make a copy to be the next version of this agent\n",
    "        fut = self.__copy__()\n",
    "\n",
    "        if npr.choice([True, False], p=[MUT_CHANCE, 1-MUT_CHANCE]):\n",
    "            # select \"gene\" to mutate\n",
    "            if npr.choice([True, False], p=[EXPLORE, 1-EXPLORE]):\n",
    "                for i in range(num_g(rand.random(), self.n // 2) + 1): # add gates based on shifted sigmoid\n",
    "\n",
    "                    gate = rand.randint(0, 5)\n",
    "                    open_qubits = list(range(self.n))\n",
    "                    q1 = open_qubits.pop(npr.choice(open_qubits))\n",
    "                    q2 = npr.choice(open_qubits) if gate >= 3 else None\n",
    "\n",
    "                    qubits = (q1, q2) if gate >= 4 else (q1,)\n",
    "\n",
    "                    # give it a EXPLORE ** 2 to add a new parameter yk\n",
    "                    parameter = rand.randint(0, fut.p) if npr.choice([False, True], p=[EXPLORE ** 2, 1 - (EXPLORE ** 2)]) else fut.p + 1\n",
    "\n",
    "                    fut.add_gate(Gate(\n",
    "                        gate,\n",
    "                        qubits,\n",
    "                        parameter\n",
    "                    ))\n",
    "            else:\n",
    "                nchange = num_g(rand.random(), len(self.gates) // 3) # up to third of gates can be changed\n",
    "\n",
    "                for _ in range(nchange):\n",
    "                    gate = npr.choice(self.gates)\n",
    "\n",
    "                    if npr.choice([False, True], p = [EXPLORE, 1-EXPLORE]):\n",
    "                        gate.gates = rand.randint(0, 3) if gate.gates <= 3 else rand.randint(4, 5)\n",
    "                        gate.parameter = rand.randint(0, fut.p) if npr.choice([False, True], p=[EXPLORE, 1 - (EXPLORE)]) else fut.p + 1\n",
    "                    else:\n",
    "                        self.gates.remove(gate) # womp womp get cooketh\n",
    "\n",
    "        return fut.__copy__()\n",
    "\n",
    "    def __str__(self):\n",
    "        return f'Gene({\", \".join([gate.__str__() for gate in self.gates])})'\n",
    "\n",
    "    def __copy__(self):\n",
    "        return Gene([g.__copy__() for g in self.gates], self.n, self.p)"
   ]
  },
  {
   "cell_type": "markdown",
   "metadata": {
    "id": "zCnqmFTPtzpQ",
    "tags": []
   },
   "source": [
    "## testing out classes"
   ]
  },
  {
   "cell_type": "code",
   "execution_count": 58,
   "metadata": {
    "id": "jLuyFWob-Eqy"
   },
   "outputs": [
    {
     "name": "stdout",
     "output_type": "stream",
     "text": [
      "kl-divergence: -0.25, mw measure: -0.25, depth: 1 -> 1.0, unused qubits: 3\n"
     ]
    },
    {
     "data": {
      "text/plain": [
       "-326.5"
      ]
     },
     "execution_count": 58,
     "metadata": {},
     "output_type": "execute_result"
    }
   ],
   "source": [
    "test = Gene([\n",
    "    Gate(0, (0,), 0),\n",
    "    Gate(0, (1,), 0),\n",
    "    Gate(0, (2,), 0)\n",
    "], 3)\n",
    "test.evaluate(o=True)"
   ]
  },
  {
   "cell_type": "code",
   "execution_count": null,
   "metadata": {
    "colab": {
     "base_uri": "https://localhost:8080/"
    },
    "id": "kMmy6wl1-axU",
    "outputId": "f456012b-4301-4c1c-bf0a-23ecda396106"
   },
   "outputs": [],
   "source": [
    "test.to_circuit()"
   ]
  },
  {
   "cell_type": "code",
   "execution_count": null,
   "metadata": {
    "colab": {
     "base_uri": "https://localhost:8080/",
     "height": 430
    },
    "id": "tW1stoL5B1kT",
    "outputId": "9f550cdb-587e-49bc-ff70-c9a3ab77721b"
   },
   "outputs": [],
   "source": [
    "def num_g(r, n = 3, s=2):\n",
    "    import math as m\n",
    "\n",
    "    sigmoid = lambda x: 1 / (1 + m.exp(-x))\n",
    "    return m.floor((n + 0.5) * sigmoid(s * m.e * (r - ((0.25) ** (1/s)))))\n",
    "\n",
    "# generate a plot for num_g\n",
    "x = np.linspace(0, 1, 100)\n",
    "y = [num_g(i, s=4) for i in x]\n",
    "plt.plot(x, y)\n",
    "plt.show()"
   ]
  },
  {
   "cell_type": "code",
   "execution_count": 3,
   "metadata": {
    "colab": {
     "base_uri": "https://localhost:8080/",
     "height": 430
    },
    "id": "1XWo4qo5d1DG",
    "outputId": "696e91d7-39d4-4ccb-ba78-b6723955c251"
   },
   "outputs": [
    {
     "data": {
      "image/png": "[encoded data removed]",
      "text/plain": [
       "<Figure size 640x480 with 1 Axes>"
      ]
     },
     "metadata": {},
     "output_type": "display_data"
    }
   ],
   "source": [
    "def mw_map(x):\n",
    "    import math as m\n",
    "    return 2 * m.exp(-(4 * (x - 0.5))**2) - 1\n",
    "\n",
    "x = np.linspace(0, 1, 100)\n",
    "y = [mw_map(i) for i in x]\n",
    "plt.plot(x, y)\n",
    "plt.show()"
   ]
  },
  {
   "cell_type": "code",
   "execution_count": null,
   "metadata": {
    "colab": {
     "base_uri": "https://localhost:8080/",
     "height": 430
    },
    "id": "4s6FUq97JmKX",
    "outputId": "9a6dee6b-0d68-485b-9668-130ea68426fc"
   },
   "outputs": [],
   "source": [
    "def depth_map(x):\n",
    "    import math as m\n",
    "    return 1.5 * m.exp(-(0.25 * (x - 2.5)) ** 2) - 0.5\n",
    "\n",
    "x = np.linspace(0, 10, 1000)\n",
    "y = [depth_map(i) for i in x]\n",
    "plt.plot(x, y)\n",
    "plt.show()"
   ]
  },
  {
   "cell_type": "code",
   "execution_count": null,
   "metadata": {
    "colab": {
     "base_uri": "https://localhost:8080/"
    },
    "id": "La2KxVP0A67K",
    "outputId": "58cabd18-9c6c-4e31-ed62-cdb3a5f2d876"
   },
   "outputs": [],
   "source": [
    "mutated = test.mutate()\n",
    "while len(mutated.gates) == len(test.gates):\n",
    "    mutated = test.mutate()\n",
    "\n",
    "mutated.to_circuit()"
   ]
  },
  {
   "cell_type": "code",
   "execution_count": null,
   "metadata": {
    "colab": {
     "base_uri": "https://localhost:8080/",
     "height": 339
    },
    "id": "KTKZ-kywMiPV",
    "outputId": "bebaec13-e6ea-429d-fb72-7bd6e7ca649a"
   },
   "outputs": [],
   "source": [
    "for _ in range(10):\n",
    "    X = [0.1 * np.pi for _ in range(mutated.p + 1)]\n",
    "    print(f\"fitness: {mutated.evaluate(X)} for {mutated}\")\n",
    "    mutated = mutated.mutate()"
   ]
  },
  {
   "cell_type": "code",
   "execution_count": null,
   "metadata": {
    "colab": {
     "base_uri": "https://localhost:8080/"
    },
    "id": "rl3AXOh_c3y9",
    "outputId": "d455601d-6872-4a3e-b316-aaecce41ff59"
   },
   "outputs": [],
   "source": [
    "mutated.to_circuit()"
   ]
  },
  {
   "cell_type": "markdown",
   "metadata": {
    "id": "E6d1D4b1j8cC"
   },
   "source": [
    "oka let's give it a shot"
   ]
  },
  {
   "cell_type": "markdown",
   "metadata": {
    "id": "mXO1_3CNt6Ab",
    "jp-MarkdownHeadingCollapsed": true,
    "tags": []
   },
   "source": [
    "## basic genetic algorithm implementation"
   ]
  },
  {
   "cell_type": "code",
   "execution_count": null,
   "metadata": {
    "id": "EWxNXCp2j-dX",
    "tags": []
   },
   "outputs": [],
   "source": [
    "# new hyperparameters\n",
    "GEN_SIZE = 100\n",
    "EPOCHS = 15\n",
    "QUBITS = 4\n",
    "\n",
    "PERCENTAGE = 0.2 # gen size should be divisible by percentage bc\n",
    "\n",
    "def num_g(r, n = 3, s=2):\n",
    "    import math as m\n",
    "\n",
    "    sigmoid = lambda x: 1 / (1 + m.exp(-x))\n",
    "    return m.floor((n + 0.5) * sigmoid(s * m.e * (r - ((0.25) ** (1/s)))))"
   ]
  },
  {
   "cell_type": "code",
   "execution_count": null,
   "metadata": {
    "id": "1MccFnjlkKY7",
    "tags": []
   },
   "outputs": [],
   "source": [
    "current_generation = []\n",
    "for _ in range(GEN_SIZE):\n",
    "    g = Gene([], QUBITS)\n",
    "\n",
    "    for _ in range(num_g(rand.random(), QUBITS // 2, s=4)):\n",
    "        gate = rand.randint(0, 5)\n",
    "        open_qubits = list(range(QUBITS))\n",
    "        q1 = open_qubits.pop(npr.choice(open_qubits))\n",
    "        q2 = npr.choice(open_qubits) if gate >= 4 else None\n",
    "\n",
    "        qubits = (q1, q2) if gate >= 4 else (q1,)\n",
    "\n",
    "        # give it a EXPLORE ** 2 to add a new parameter yk\n",
    "        parameter = rand.randint(0, g.p) if npr.choice([False, True], p=[EXPLORE ** 2, 1 - (EXPLORE ** 2)]) else g.p + 1\n",
    "\n",
    "        g.add_gate(Gate(\n",
    "            gate,\n",
    "            qubits,\n",
    "            parameter\n",
    "        ))\n",
    "\n",
    "    current_generation.append(g)"
   ]
  },
  {
   "cell_type": "code",
   "execution_count": null,
   "metadata": {
    "colab": {
     "base_uri": "https://localhost:8080/"
    },
    "id": "rKQGXolNtaQ2",
    "outputId": "7abd60ca-3b0d-4432-ab45-5b7bb08aaa12"
   },
   "outputs": [],
   "source": [
    "for gene in current_generation:\n",
    "    print(gene) # making sure something doesn't look completely stupid here"
   ]
  },
  {
   "cell_type": "code",
   "execution_count": null,
   "metadata": {
    "colab": {
     "base_uri": "https://localhost:8080/"
    },
    "id": "WgKegeO_w72J",
    "outputId": "13da6d10-c5e7-4796-f218-1c2724b71e9a"
   },
   "outputs": [],
   "source": [
    "for epoch in range(EPOCHS):\n",
    "    if epoch % 2 == 0:\n",
    "        print(f\"Epoch {epoch}:\")\n",
    "        print(f\"==============\")\n",
    "\n",
    "    total_fitness = []\n",
    "    for ngene in range(len(current_generation)):\n",
    "        total_fitness.append(current_generation[ngene].evaluate([0.5 * np.pi for _ in range(current_generation[ngene].p + 1)]))\n",
    "        if ngene % (GEN_SIZE // 5) == 0 and epoch % 2 == 0:\n",
    "            print(f'calculated fitness for gene {ngene}.')\n",
    "\n",
    "    combined_array = zip(current_generation, total_fitness)\n",
    "    sorted_array = sorted(combined_array, key=lambda x: x[1])\n",
    "\n",
    "    if epoch % 2 == 0:\n",
    "        print(f\"Max fitness is: ({sorted_array[-1][0]}, {sorted_array[-1][1]})\")\n",
    "        best = sorted_array[-1][0]\n",
    "        best_performance = sorted_array[-1][1]\n",
    "\n",
    "    # select PERCENTAGE% of current_generation with highest fitness\n",
    "    selected = [x[0] for x in sorted_array[int(-PERCENTAGE* GEN_SIZE):]]\n",
    "\n",
    "    current_generation.clear() # yay\n",
    "\n",
    "    for gene in selected: # aw :(\n",
    "        for _ in range(int(GEN_SIZE / (PERCENTAGE * 100))):\n",
    "            current_generation.append(gene.mutate())"
   ]
  },
  {
   "cell_type": "code",
   "execution_count": null,
   "metadata": {
    "colab": {
     "base_uri": "https://localhost:8080/",
     "height": 296
    },
    "id": "DdJsHoODH_tJ",
    "outputId": "bbe962f8-6970-46a5-bfb7-2d7147927989"
   },
   "outputs": [],
   "source": [
    "from cirq.contrib.svg import SVGCircuit, circuit_to_svg\n",
    "\n",
    "C, params = best.to_circuit()\n",
    "resolver = cirq.ParamResolver({params[i]: 0.5 * np.pi for i in range(len(params))})\n",
    "\n",
    "print(best.evaluate([0.5 * np.pi for _ in range(best.p + 1)], o=True))\n",
    "\n",
    "SVGCircuit(C)"
   ]
  },
  {
   "cell_type": "markdown",
   "metadata": {
    "id": "pLhTqNUPIlOt",
    "tags": []
   },
   "source": [
    "## testing part two"
   ]
  },
  {
   "cell_type": "code",
   "execution_count": 82,
   "metadata": {
    "id": "XehYZzWDw_ob"
   },
   "outputs": [],
   "source": [
    "test = Gene([\n",
    "    Gate(0, (0,), 0),\n",
    "    *[Gate(4, (0, i+1), 0) for i in range(3)]\n",
    "], 4)\n",
    "\n",
    "X = [0.5 * np.pi for _ in range(test.p + 1)]"
   ]
  },
  {
   "cell_type": "code",
   "execution_count": 67,
   "metadata": {
    "colab": {
     "base_uri": "https://localhost:8080/",
     "height": 221
    },
    "id": "i-fOAVQ4yTV9",
    "outputId": "ecfca166-c686-4339-98fb-7c5a144ca058"
   },
   "outputs": [
    {
     "data": {
      "text/plain": [
       "{'bell_mean': 7.499999999999999,\n",
       " 'bell_std': 6.8181818181818175,\n",
       " 'kl_divergence': 1.9834582118770636,\n",
       " 'js_divergence': 0.48324500328904274,\n",
       " 'wasserstein_distance': 3.825634703257209,\n",
       " 'bell_curve_alignment_score': 0.33518150045441497}"
      ]
     },
     "execution_count": 67,
     "metadata": {},
     "output_type": "execute_result"
    }
   ],
   "source": [
    "from cirq.contrib.svg import SVGCircuit, circuit_to_svg\n",
    "\n",
    "c, params = test.to_circuit()\n",
    "resolver = cirq.ParamResolver({params[i]: X[i] for i in range(len(X))})\n",
    "\n",
    "sim = cirq.Simulator()\n",
    "results = sim.simulate(c[:-1], param_resolver=resolver)\n",
    "\n",
    "compute_bell_curve_proximity(results.final_state_vector, 0.5, 0.5)"
   ]
  },
  {
   "cell_type": "code",
   "execution_count": 84,
   "metadata": {
    "tags": []
   },
   "outputs": [
    {
     "data": {
      "image/svg+xml": [
       "<svg xmlns=\"http://www.w3.org/2000/svg\" width=\"406.40875\" height=\"200.0\"><line x1=\"30.0\" x2=\"376.40875\" y1=\"25.0\" y2=\"25.0\" stroke=\"#1967d2\" stroke-width=\"1\" /><line x1=\"30.0\" x2=\"376.40875\" y1=\"75.0\" y2=\"75.0\" stroke=\"#1967d2\" stroke-width=\"1\" /><line x1=\"30.0\" x2=\"376.40875\" y1=\"125.0\" y2=\"125.0\" stroke=\"#1967d2\" stroke-width=\"1\" /><line x1=\"30.0\" x2=\"376.40875\" y1=\"175.0\" y2=\"175.0\" stroke=\"#1967d2\" stroke-width=\"1\" /><line x1=\"150.0\" x2=\"150.0\" y1=\"25.0\" y2=\"75.0\" stroke=\"black\" stroke-width=\"3\" /><line x1=\"210.0\" x2=\"210.0\" y1=\"25.0\" y2=\"125.0\" stroke=\"black\" stroke-width=\"3\" /><line x1=\"270.0\" x2=\"270.0\" y1=\"25.0\" y2=\"175.0\" stroke=\"black\" stroke-width=\"3\" /><line x1=\"333.204375\" x2=\"333.204375\" y1=\"25.0\" y2=\"175.0\" stroke=\"black\" stroke-width=\"3\" /><rect x=\"10.0\" y=\"5.0\" width=\"40\" height=\"40\" stroke=\"black\" fill=\"white\" stroke-width=\"0\" /><text x=\"30.0\" y=\"25.0\" dominant-baseline=\"middle\" text-anchor=\"middle\" font-size=\"14px\" font-family=\"sans\\-serif:style=normal:variant=normal:weight=normal:stretch=normal:size=10.0\">0: </text><rect x=\"10.0\" y=\"55.0\" width=\"40\" height=\"40\" stroke=\"black\" fill=\"white\" stroke-width=\"0\" /><text x=\"30.0\" y=\"75.0\" dominant-baseline=\"middle\" text-anchor=\"middle\" font-size=\"14px\" font-family=\"sans\\-serif:style=normal:variant=normal:weight=normal:stretch=normal:size=10.0\">1: </text><rect x=\"10.0\" y=\"105.0\" width=\"40\" height=\"40\" stroke=\"black\" fill=\"white\" stroke-width=\"0\" /><text x=\"30.0\" y=\"125.0\" dominant-baseline=\"middle\" text-anchor=\"middle\" font-size=\"14px\" font-family=\"sans\\-serif:style=normal:variant=normal:weight=normal:stretch=normal:size=10.0\">2: </text><rect x=\"10.0\" y=\"155.0\" width=\"40\" height=\"40\" stroke=\"black\" fill=\"white\" stroke-width=\"0\" /><text x=\"30.0\" y=\"175.0\" dominant-baseline=\"middle\" text-anchor=\"middle\" font-size=\"14px\" font-family=\"sans\\-serif:style=normal:variant=normal:weight=normal:stretch=normal:size=10.0\">3: </text><rect x=\"70.0\" y=\"5.0\" width=\"40\" height=\"40\" stroke=\"black\" fill=\"white\" stroke-width=\"1\" /><text x=\"90.0\" y=\"25.0\" dominant-baseline=\"middle\" text-anchor=\"middle\" font-size=\"18px\" font-family=\"sans\\-serif:style=normal:variant=normal:weight=normal:stretch=normal:size=10.0\">H</text><circle cx=\"150.0\" cy=\"25.0\" r=\"10.0\" /><rect x=\"130.0\" y=\"55.0\" width=\"40\" height=\"40\" stroke=\"black\" fill=\"white\" stroke-width=\"1\" /><text x=\"150.0\" y=\"75.0\" dominant-baseline=\"middle\" text-anchor=\"middle\" font-size=\"18px\" font-family=\"sans\\-serif:style=normal:variant=normal:weight=normal:stretch=normal:size=10.0\">X</text><circle cx=\"210.0\" cy=\"25.0\" r=\"10.0\" /><rect x=\"190.0\" y=\"105.0\" width=\"40\" height=\"40\" stroke=\"black\" fill=\"white\" stroke-width=\"1\" /><text x=\"210.0\" y=\"125.0\" dominant-baseline=\"middle\" text-anchor=\"middle\" font-size=\"18px\" font-family=\"sans\\-serif:style=normal:variant=normal:weight=normal:stretch=normal:size=10.0\">X</text><circle cx=\"270.0\" cy=\"25.0\" r=\"10.0\" /><rect x=\"250.0\" y=\"155.0\" width=\"40\" height=\"40\" stroke=\"black\" fill=\"white\" stroke-width=\"1\" /><text x=\"270.0\" y=\"175.0\" dominant-baseline=\"middle\" text-anchor=\"middle\" font-size=\"18px\" font-family=\"sans\\-serif:style=normal:variant=normal:weight=normal:stretch=normal:size=10.0\">X</text><rect x=\"310.0\" y=\"5.0\" width=\"46.40875\" height=\"40\" stroke=\"black\" fill=\"white\" stroke-width=\"1\" /><text x=\"333.204375\" y=\"25.0\" dominant-baseline=\"middle\" text-anchor=\"middle\" font-size=\"14px\" font-family=\"sans\\-serif:style=normal:variant=normal:weight=normal:stretch=normal:size=10.0\">M('x')</text><rect x=\"310.0\" y=\"55.0\" width=\"46.40875\" height=\"40\" stroke=\"black\" fill=\"white\" stroke-width=\"1\" /><text x=\"333.204375\" y=\"75.0\" dominant-baseline=\"middle\" text-anchor=\"middle\" font-size=\"18px\" font-family=\"sans\\-serif:style=normal:variant=normal:weight=normal:stretch=normal:size=10.0\">M</text><rect x=\"310.0\" y=\"105.0\" width=\"46.40875\" height=\"40\" stroke=\"black\" fill=\"white\" stroke-width=\"1\" /><text x=\"333.204375\" y=\"125.0\" dominant-baseline=\"middle\" text-anchor=\"middle\" font-size=\"18px\" font-family=\"sans\\-serif:style=normal:variant=normal:weight=normal:stretch=normal:size=10.0\">M</text><rect x=\"310.0\" y=\"155.0\" width=\"46.40875\" height=\"40\" stroke=\"black\" fill=\"white\" stroke-width=\"1\" /><text x=\"333.204375\" y=\"175.0\" dominant-baseline=\"middle\" text-anchor=\"middle\" font-size=\"18px\" font-family=\"sans\\-serif:style=normal:variant=normal:weight=normal:stretch=normal:size=10.0\">M</text></svg>"
      ],
      "text/plain": [
       "<cirq.contrib.svg.svg.SVGCircuit at 0x7fbaf84dde10>"
      ]
     },
     "execution_count": 84,
     "metadata": {},
     "output_type": "execute_result"
    }
   ],
   "source": [
    "SVGCircuit(c)"
   ]
  },
  {
   "cell_type": "code",
   "execution_count": 83,
   "metadata": {
    "colab": {
     "base_uri": "https://localhost:8080/"
    },
    "id": "cv6ed8-GYya6",
    "outputId": "823c02cf-bed4-4673-e50a-d57188fde6fe"
   },
   "outputs": [
    {
     "name": "stdout",
     "output_type": "stream",
     "text": [
      "kl-divergence: -0.25, mw measure: 0.9999999999998759, depth: 4 -> 0.25, unused qubits: 1\n"
     ]
    },
    {
     "data": {
      "text/plain": [
       "-2.250000000012406"
      ]
     },
     "execution_count": 83,
     "metadata": {},
     "output_type": "execute_result"
    }
   ],
   "source": [
    "test.evaluate(o=True)"
   ]
  },
  {
   "cell_type": "markdown",
   "metadata": {
    "id": "c2GOKONSIo6b"
   },
   "source": [
    "## overall weight particle swarm optimizer"
   ]
  },
  {
   "cell_type": "code",
   "execution_count": 6,
   "metadata": {
    "scrolled": true,
    "tags": []
   },
   "outputs": [
    {
     "name": "stdout",
     "output_type": "stream",
     "text": [
      "Defaulting to user installation because normal site-packages is not writeable\n",
      "Requirement already satisfied: cirq in /home/jupyter-atiwari/.local/lib/python3.10/site-packages (1.4.1)\n",
      "Requirement already satisfied: openfermion in /home/jupyter-atiwari/.local/lib/python3.10/site-packages (1.7.0)\n",
      "Requirement already satisfied: openfermionpyscf in /home/jupyter-atiwari/.local/lib/python3.10/site-packages (0.5)\n",
      "Requirement already satisfied: pyscf in /home/jupyter-atiwari/.local/lib/python3.10/site-packages (2.8.0)\n",
      "Requirement already satisfied: matplotlib in /opt/tljh/user/lib/python3.10/site-packages (3.7.2)\n",
      "Requirement already satisfied: cirq-aqt==1.4.1 in /home/jupyter-atiwari/.local/lib/python3.10/site-packages (from cirq) (1.4.1)\n",
      "Requirement already satisfied: cirq-core==1.4.1 in /home/jupyter-atiwari/.local/lib/python3.10/site-packages (from cirq) (1.4.1)\n",
      "Requirement already satisfied: cirq-google==1.4.1 in /home/jupyter-atiwari/.local/lib/python3.10/site-packages (from cirq) (1.4.1)\n",
      "Requirement already satisfied: cirq-ionq==1.4.1 in /home/jupyter-atiwari/.local/lib/python3.10/site-packages (from cirq) (1.4.1)\n",
      "Requirement already satisfied: cirq-pasqal==1.4.1 in /home/jupyter-atiwari/.local/lib/python3.10/site-packages (from cirq) (1.4.1)\n",
      "Requirement already satisfied: cirq-rigetti==1.4.1 in /home/jupyter-atiwari/.local/lib/python3.10/site-packages (from cirq) (1.4.1)\n",
      "Requirement already satisfied: cirq-web==1.4.1 in /home/jupyter-atiwari/.local/lib/python3.10/site-packages (from cirq) (1.4.1)\n",
      "Requirement already satisfied: requests~=2.18 in /home/jupyter-atiwari/.local/lib/python3.10/site-packages (from cirq-aqt==1.4.1->cirq) (2.32.3)\n",
      "Requirement already satisfied: attrs>=21.3.0 in /opt/tljh/user/lib/python3.10/site-packages (from cirq-core==1.4.1->cirq) (23.1.0)\n",
      "Requirement already satisfied: duet>=0.2.8 in /home/jupyter-atiwari/.local/lib/python3.10/site-packages (from cirq-core==1.4.1->cirq) (0.2.9)\n",
      "Requirement already satisfied: networkx>=2.4 in /opt/tljh/user/lib/python3.10/site-packages (from cirq-core==1.4.1->cirq) (3.1)\n",
      "Requirement already satisfied: numpy~=1.22 in /opt/tljh/user/lib/python3.10/site-packages (from cirq-core==1.4.1->cirq) (1.25.2)\n",
      "Requirement already satisfied: pandas in /opt/tljh/user/lib/python3.10/site-packages (from cirq-core==1.4.1->cirq) (2.1.1)\n",
      "Requirement already satisfied: sortedcontainers~=2.0 in /home/jupyter-atiwari/.local/lib/python3.10/site-packages (from cirq-core==1.4.1->cirq) (2.4.0)\n",
      "Requirement already satisfied: scipy~=1.0 in /home/jupyter-atiwari/.local/lib/python3.10/site-packages (from cirq-core==1.4.1->cirq) (1.15.2)\n",
      "Requirement already satisfied: sympy in /opt/tljh/user/lib/python3.10/site-packages (from cirq-core==1.4.1->cirq) (1.12)\n",
      "Requirement already satisfied: typing-extensions>=4.2 in /home/jupyter-atiwari/.local/lib/python3.10/site-packages (from cirq-core==1.4.1->cirq) (4.12.2)\n",
      "Requirement already satisfied: tqdm in /opt/tljh/user/lib/python3.10/site-packages (from cirq-core==1.4.1->cirq) (4.65.0)\n",
      "Requirement already satisfied: google-api-core>=1.14.0 in /home/jupyter-atiwari/.local/lib/python3.10/site-packages (from google-api-core[grpc]>=1.14.0->cirq-google==1.4.1->cirq) (2.24.1)\n",
      "Requirement already satisfied: proto-plus>=1.20.0 in /home/jupyter-atiwari/.local/lib/python3.10/site-packages (from cirq-google==1.4.1->cirq) (1.26.0)\n",
      "Requirement already satisfied: protobuf<5.0.0,>=3.15.0 in /opt/tljh/user/lib/python3.10/site-packages (from cirq-google==1.4.1->cirq) (4.23.4)\n",
      "Requirement already satisfied: pyquil<5.0.0,>=4.11.0 in /home/jupyter-atiwari/.local/lib/python3.10/site-packages (from cirq-rigetti==1.4.1->cirq) (4.16.0)\n",
      "Requirement already satisfied: deprecation in /home/jupyter-atiwari/.local/lib/python3.10/site-packages (from openfermion) (2.1.0)\n",
      "Requirement already satisfied: h5py>=3.10.0 in /opt/tljh/user/lib/python3.10/site-packages (from openfermion) (3.10.0)\n",
      "Requirement already satisfied: pubchempy in /home/jupyter-atiwari/.local/lib/python3.10/site-packages (from openfermion) (1.0.4)\n",
      "Requirement already satisfied: pytest in /home/jupyter-atiwari/.local/lib/python3.10/site-packages (from openfermionpyscf) (8.3.5)\n",
      "Requirement already satisfied: setuptools in /opt/tljh/user/lib/python3.10/site-packages (from pyscf) (65.6.3)\n",
      "Requirement already satisfied: contourpy>=1.0.1 in /opt/tljh/user/lib/python3.10/site-packages (from matplotlib) (1.1.0)\n",
      "Requirement already satisfied: cycler>=0.10 in /opt/tljh/user/lib/python3.10/site-packages (from matplotlib) (0.11.0)\n",
      "Requirement already satisfied: fonttools>=4.22.0 in /opt/tljh/user/lib/python3.10/site-packages (from matplotlib) (4.42.1)\n",
      "Requirement already satisfied: kiwisolver>=1.0.1 in /opt/tljh/user/lib/python3.10/site-packages (from matplotlib) (1.4.5)\n",
      "Requirement already satisfied: packaging>=20.0 in /opt/tljh/user/lib/python3.10/site-packages (from matplotlib) (23.2)\n",
      "Requirement already satisfied: pillow>=6.2.0 in /opt/tljh/user/lib/python3.10/site-packages (from matplotlib) (10.0.0)\n",
      "Requirement already satisfied: pyparsing<3.1,>=2.3.1 in /opt/tljh/user/lib/python3.10/site-packages (from matplotlib) (3.0.9)\n",
      "Requirement already satisfied: python-dateutil>=2.7 in /opt/tljh/user/lib/python3.10/site-packages (from matplotlib) (2.8.2)\n",
      "Requirement already satisfied: six>=1.5 in /opt/tljh/user/lib/python3.10/site-packages (from python-dateutil>=2.7->matplotlib) (1.16.0)\n",
      "Requirement already satisfied: charset-normalizer<4,>=2 in /opt/tljh/user/lib/python3.10/site-packages (from requests~=2.18->cirq-aqt==1.4.1->cirq) (3.1.0)\n",
      "Requirement already satisfied: idna<4,>=2.5 in /opt/tljh/user/lib/python3.10/site-packages (from requests~=2.18->cirq-aqt==1.4.1->cirq) (3.4)\n",
      "Requirement already satisfied: urllib3<3,>=1.21.1 in /opt/tljh/user/lib/python3.10/site-packages (from requests~=2.18->cirq-aqt==1.4.1->cirq) (1.26.15)\n",
      "Requirement already satisfied: certifi>=2017.4.17 in /opt/tljh/user/lib/python3.10/site-packages (from requests~=2.18->cirq-aqt==1.4.1->cirq) (2023.7.22)\n",
      "Requirement already satisfied: exceptiongroup>=1.0.0rc8 in /opt/tljh/user/lib/python3.10/site-packages (from pytest->openfermionpyscf) (1.1.3)\n",
      "Requirement already satisfied: iniconfig in /home/jupyter-atiwari/.local/lib/python3.10/site-packages (from pytest->openfermionpyscf) (2.1.0)\n",
      "Requirement already satisfied: pluggy<2,>=1.5 in /home/jupyter-atiwari/.local/lib/python3.10/site-packages (from pytest->openfermionpyscf) (1.5.0)\n",
      "Requirement already satisfied: tomli>=1 in /opt/tljh/user/lib/python3.10/site-packages (from pytest->openfermionpyscf) (2.0.1)\n",
      "Requirement already satisfied: mpmath>=0.19 in /opt/tljh/user/lib/python3.10/site-packages (from sympy->cirq-core==1.4.1->cirq) (1.3.0)\n",
      "Requirement already satisfied: googleapis-common-protos<2.0.dev0,>=1.56.2 in /home/jupyter-atiwari/.local/lib/python3.10/site-packages (from google-api-core>=1.14.0->google-api-core[grpc]>=1.14.0->cirq-google==1.4.1->cirq) (1.68.0)\n",
      "Requirement already satisfied: google-auth<3.0.dev0,>=2.14.1 in /opt/tljh/user/lib/python3.10/site-packages (from google-api-core>=1.14.0->google-api-core[grpc]>=1.14.0->cirq-google==1.4.1->cirq) (2.27.0)\n",
      "Requirement already satisfied: grpcio<2.0dev,>=1.33.2 in /home/jupyter-atiwari/.local/lib/python3.10/site-packages (from google-api-core[grpc]>=1.14.0->cirq-google==1.4.1->cirq) (1.70.0)\n",
      "Requirement already satisfied: grpcio-status<2.0.dev0,>=1.33.2 in /home/jupyter-atiwari/.local/lib/python3.10/site-packages (from google-api-core[grpc]>=1.14.0->cirq-google==1.4.1->cirq) (1.62.3)\n",
      "Requirement already satisfied: deprecated<2.0.0,>=1.2.14 in /home/jupyter-atiwari/.local/lib/python3.10/site-packages (from pyquil<5.0.0,>=4.11.0->cirq-rigetti==1.4.1->cirq) (1.2.18)\n",
      "Requirement already satisfied: matplotlib-inline<0.2.0,>=0.1.7 in /home/jupyter-atiwari/.local/lib/python3.10/site-packages (from pyquil<5.0.0,>=4.11.0->cirq-rigetti==1.4.1->cirq) (0.1.7)\n",
      "Requirement already satisfied: qcs-sdk-python>=0.20.1 in /home/jupyter-atiwari/.local/lib/python3.10/site-packages (from pyquil<5.0.0,>=4.11.0->cirq-rigetti==1.4.1->cirq) (0.21.12)\n",
      "Requirement already satisfied: quil>=0.15.2 in /home/jupyter-atiwari/.local/lib/python3.10/site-packages (from pyquil<5.0.0,>=4.11.0->cirq-rigetti==1.4.1->cirq) (0.15.3)\n",
      "Requirement already satisfied: rpcq<4.0.0,>=3.11.0 in /home/jupyter-atiwari/.local/lib/python3.10/site-packages (from pyquil<5.0.0,>=4.11.0->cirq-rigetti==1.4.1->cirq) (3.11.0)\n",
      "Requirement already satisfied: types-deprecated<2.0.0.0,>=1.2.9.3 in /home/jupyter-atiwari/.local/lib/python3.10/site-packages (from pyquil<5.0.0,>=4.11.0->cirq-rigetti==1.4.1->cirq) (1.2.15.20241117)\n",
      "Requirement already satisfied: pytz>=2020.1 in /opt/tljh/user/lib/python3.10/site-packages (from pandas->cirq-core==1.4.1->cirq) (2023.3.post1)\n",
      "Requirement already satisfied: tzdata>=2022.1 in /opt/tljh/user/lib/python3.10/site-packages (from pandas->cirq-core==1.4.1->cirq) (2023.3)\n",
      "Requirement already satisfied: wrapt<2,>=1.10 in /opt/tljh/user/lib/python3.10/site-packages (from deprecated<2.0.0,>=1.2.14->pyquil<5.0.0,>=4.11.0->cirq-rigetti==1.4.1->cirq) (1.14.1)\n",
      "Requirement already satisfied: cachetools<6.0,>=2.0.0 in /opt/tljh/user/lib/python3.10/site-packages (from google-auth<3.0.dev0,>=2.14.1->google-api-core>=1.14.0->google-api-core[grpc]>=1.14.0->cirq-google==1.4.1->cirq) (5.3.2)\n",
      "Requirement already satisfied: pyasn1-modules>=0.2.1 in /opt/tljh/user/lib/python3.10/site-packages (from google-auth<3.0.dev0,>=2.14.1->google-api-core>=1.14.0->google-api-core[grpc]>=1.14.0->cirq-google==1.4.1->cirq) (0.3.0)\n",
      "Requirement already satisfied: rsa<5,>=3.1.4 in /opt/tljh/user/lib/python3.10/site-packages (from google-auth<3.0.dev0,>=2.14.1->google-api-core>=1.14.0->google-api-core[grpc]>=1.14.0->cirq-google==1.4.1->cirq) (4.9)\n",
      "Requirement already satisfied: traitlets in /opt/tljh/user/lib/python3.10/site-packages (from matplotlib-inline<0.2.0,>=0.1.7->pyquil<5.0.0,>=4.11.0->cirq-rigetti==1.4.1->cirq) (5.9.0)\n",
      "Requirement already satisfied: qcs-api-client-common>=0.11.8 in /home/jupyter-atiwari/.local/lib/python3.10/site-packages (from qcs-sdk-python>=0.20.1->pyquil<5.0.0,>=4.11.0->cirq-rigetti==1.4.1->cirq) (0.11.8)\n",
      "Requirement already satisfied: msgpack<2.0,>=0.6 in /home/jupyter-atiwari/.local/lib/python3.10/site-packages (from rpcq<4.0.0,>=3.11.0->pyquil<5.0.0,>=4.11.0->cirq-rigetti==1.4.1->cirq) (1.1.0)\n",
      "Requirement already satisfied: python-rapidjson in /home/jupyter-atiwari/.local/lib/python3.10/site-packages (from rpcq<4.0.0,>=3.11.0->pyquil<5.0.0,>=4.11.0->cirq-rigetti==1.4.1->cirq) (1.20)\n",
      "Requirement already satisfied: pyzmq>=17 in /opt/tljh/user/lib/python3.10/site-packages (from rpcq<4.0.0,>=3.11.0->pyquil<5.0.0,>=4.11.0->cirq-rigetti==1.4.1->cirq) (25.1.1)\n",
      "Requirement already satisfied: ruamel.yaml in /opt/tljh/user/lib/python3.10/site-packages (from rpcq<4.0.0,>=3.11.0->pyquil<5.0.0,>=4.11.0->cirq-rigetti==1.4.1->cirq) (0.17.21)\n",
      "Requirement already satisfied: pyasn1<0.6.0,>=0.4.6 in /opt/tljh/user/lib/python3.10/site-packages (from pyasn1-modules>=0.2.1->google-auth<3.0.dev0,>=2.14.1->google-api-core>=1.14.0->google-api-core[grpc]>=1.14.0->cirq-google==1.4.1->cirq) (0.5.0)\n",
      "Requirement already satisfied: grpc-interceptor>=0.15.0 in /home/jupyter-atiwari/.local/lib/python3.10/site-packages (from qcs-api-client-common>=0.11.8->qcs-sdk-python>=0.20.1->pyquil<5.0.0,>=4.11.0->cirq-rigetti==1.4.1->cirq) (0.15.4)\n",
      "Requirement already satisfied: httpx>=0.27.0 in /home/jupyter-atiwari/.local/lib/python3.10/site-packages (from qcs-api-client-common>=0.11.8->qcs-sdk-python>=0.20.1->pyquil<5.0.0,>=4.11.0->cirq-rigetti==1.4.1->cirq) (0.28.1)\n",
      "Requirement already satisfied: ruamel.yaml.clib>=0.2.6 in /opt/tljh/user/lib/python3.10/site-packages (from ruamel.yaml->rpcq<4.0.0,>=3.11.0->pyquil<5.0.0,>=4.11.0->cirq-rigetti==1.4.1->cirq) (0.2.7)\n",
      "Requirement already satisfied: anyio in /opt/tljh/user/lib/python3.10/site-packages (from httpx>=0.27.0->qcs-api-client-common>=0.11.8->qcs-sdk-python>=0.20.1->pyquil<5.0.0,>=4.11.0->cirq-rigetti==1.4.1->cirq) (4.0.0)\n",
      "Requirement already satisfied: httpcore==1.* in /home/jupyter-atiwari/.local/lib/python3.10/site-packages (from httpx>=0.27.0->qcs-api-client-common>=0.11.8->qcs-sdk-python>=0.20.1->pyquil<5.0.0,>=4.11.0->cirq-rigetti==1.4.1->cirq) (1.0.7)\n",
      "Requirement already satisfied: h11<0.15,>=0.13 in /home/jupyter-atiwari/.local/lib/python3.10/site-packages (from httpcore==1.*->httpx>=0.27.0->qcs-api-client-common>=0.11.8->qcs-sdk-python>=0.20.1->pyquil<5.0.0,>=4.11.0->cirq-rigetti==1.4.1->cirq) (0.14.0)\n",
      "Requirement already satisfied: sniffio>=1.1 in /opt/tljh/user/lib/python3.10/site-packages (from anyio->httpx>=0.27.0->qcs-api-client-common>=0.11.8->qcs-sdk-python>=0.20.1->pyquil<5.0.0,>=4.11.0->cirq-rigetti==1.4.1->cirq) (1.3.0)\n",
      "\n",
      "\u001b[1m[\u001b[0m\u001b[34;49mnotice\u001b[0m\u001b[1;39;49m]\u001b[0m\u001b[39;49m A new release of pip is available: \u001b[0m\u001b[31;49m24.0\u001b[0m\u001b[39;49m -> \u001b[0m\u001b[32;49m25.0.1\u001b[0m\n",
      "\u001b[1m[\u001b[0m\u001b[34;49mnotice\u001b[0m\u001b[1;39;49m]\u001b[0m\u001b[39;49m To update, run: \u001b[0m\u001b[32;49mpip install --upgrade pip\u001b[0m\n"
     ]
    }
   ],
   "source": [
    "!pip install cirq openfermion openfermionpyscf pyscf matplotlib\n",
    "\n",
    "import openfermion\n",
    "from openfermion.transforms import get_fermion_operator, jordan_wigner\n",
    "from openfermion.linalg import get_sparse_operator\n",
    "from openfermionpyscf import run_pyscf\n",
    "\n",
    "from scipy.optimize import minimize, dual_annealing"
   ]
  },
  {
   "cell_type": "code",
   "execution_count": 7,
   "metadata": {
    "id": "66KUkC3eIvNA",
    "tags": []
   },
   "outputs": [],
   "source": [
    "# hyperparameters\n",
    "W_bounds = [(1e-1, 1e2), (1e-1, 1e2), (1e-1, 1e2), (1e0, 1e2)]\n",
    "inertia = 0.85 # weight\n",
    "phi_p = 1\n",
    "phi_g = 1\n",
    "\n",
    "MUT_CHANCE = 0.2\n",
    "EXPLORE = 0.2 # chance to add new gate\n",
    "\n",
    "GATES = [\"H\", \"Rx\", \"Ry\", \"Rz\", \"CNOT\", \"RZZ\"]\n",
    "\n",
    "p_max = 10\n",
    "particles = [] # [x: [], b: [] vec x, current; vec b, best;\n",
    "\n",
    "estimation_iters = 5\n",
    "iters = 15\n",
    "\n",
    "rounding = 2"
   ]
  },
  {
   "cell_type": "code",
   "execution_count": 8,
   "metadata": {
    "id": "AteYLgtLn8b_",
    "tags": []
   },
   "outputs": [],
   "source": [
    "# swarm globals\n",
    "swarm_max = [[], 10000000]\n",
    "known_v = {}"
   ]
  },
  {
   "cell_type": "code",
   "execution_count": 9,
   "metadata": {
    "tags": []
   },
   "outputs": [
    {
     "name": "stdout",
     "output_type": "stream",
     "text": [
      "Calculating for LiH\n",
      "FCI Energy for LiH: -7.882324 Ha\n",
      "Calculating for BeH2\n",
      "FCI Energy for BeH2: -15.595047 Ha\n",
      "Calculating for H2O\n",
      "FCI Energy for H2O: -75.011692 Ha\n"
     ]
    }
   ],
   "source": [
    "def compute_energy(gene, parameters, hamiltonian, simulator):\n",
    "    \"\"\"Compute the energy expectation value of a state prepared by the ansatz\"\"\"\n",
    "    circuit = cirq.resolve_parameters(gene.to_circuit()[0][:-1], cirq.ParamResolver({\n",
    "        f'x_{i}': parameters[i] for i in range(len(parameters))\n",
    "    }))\n",
    "    \n",
    "    qs = cirq.LineQubit(4)\n",
    "    circuit.insert(0, cirq.Circuit())\n",
    "    \n",
    "    # For using exact expectation value computation\n",
    "    energy = 0.0\n",
    "    \n",
    "    # Handle the constant term separately\n",
    "    if () in hamiltonian.terms:\n",
    "        energy += hamiltonian.terms[()]\n",
    "    \n",
    "    # Create a list of all non-constant Pauli terms and their coefficients\n",
    "    observables = []\n",
    "    coefficients = []\n",
    "    \n",
    "    for term, coefficient in hamiltonian.terms.items():\n",
    "        if term == ():\n",
    "            continue  # Already handled the constant term\n",
    "            \n",
    "        # Convert the term to a Pauli string observable\n",
    "        pauli_string = []\n",
    "        for qubit_idx, pauli_idx in term:\n",
    "            if pauli_idx == 1:\n",
    "                pauli_string.append(cirq.X(qubits[qubit_idx]))\n",
    "            elif pauli_idx == 2:\n",
    "                pauli_string.append(cirq.Y(qubits[qubit_idx]))\n",
    "            elif pauli_idx == 3:\n",
    "                pauli_string.append(cirq.Z(qubits[qubit_idx]))\n",
    "        \n",
    "        if pauli_string:\n",
    "            observables.append(cirq.PauliString(*pauli_string))\n",
    "            coefficients.append(coefficient)\n",
    "    \n",
    "    # Calculate all expectation values at once if there are observables to measure\n",
    "    if observables:\n",
    "        expectation_values = cirq.simulate_expectation_values(\n",
    "            circuit, observables=observables, simulator=simulator\n",
    "        )\n",
    "        \n",
    "        # Sum up the weighted expectation values\n",
    "        for coef, val in zip(coefficients, expectation_values):\n",
    "            energy += coef * val\n",
    "    \n",
    "    return energy\n",
    "\n",
    "import numpy as np\n",
    "from openfermion.chem import MolecularData\n",
    "from openfermion.transforms import jordan_wigner\n",
    "from openfermion.linalg import get_sparse_operator\n",
    "from openfermionpyscf import run_pyscf\n",
    "\n",
    "# Define molecules\n",
    "molecules = {\n",
    "    \"LiH\": [(\"Li\", (0.0, 0.0, 0.0)), (\"H\", (0.0, 0.0, 1.6))],\n",
    "    \"BeH2\": [(\"Be\", (0.0, 0.0, 0.0)), (\"H\", (0.0, 0.0, 1.3)), (\"H\", (0.0, 0.0, -1.3))],\n",
    "    \"H2O\": [(\"O\", (0.0, 0.0, 0.0)), (\"H\", (0.76, 0.58, 0.0)), (\"H\", (-0.76, 0.58, 0.0))]\n",
    "}\n",
    "\n",
    "# Basis set and charge/multiplicity\n",
    "basis = \"sto-3g\"\n",
    "charge = 0\n",
    "multiplicity = 1\n",
    "\n",
    "computed_mols = {}\n",
    "\n",
    "for name, geometry in molecules.items():\n",
    "    print(f\"Calculating for {name}\")\n",
    "    \n",
    "    # Create molecular data\n",
    "    molecule = MolecularData(geometry, basis, multiplicity, charge)\n",
    "    \n",
    "    # Run PySCF calculation\n",
    "    molecule = run_pyscf(molecule, run_fci=True)\n",
    "    \n",
    "    # Extract FCI energy\n",
    "    fci_energy = molecule.fci_energy\n",
    "    print(f\"FCI Energy for {name}: {fci_energy:.6f} Ha\")\n",
    "    \n",
    "    # Get qubit Hamiltonian\n",
    "    fermionic_hamiltonian = molecule.get_molecular_hamiltonian()\n",
    "    qubit_hamiltonian = jordan_wigner(fermionic_hamiltonian)\n",
    "    \n",
    "    computed_mols[name] = {\n",
    "        'fci_energy': fci_energy,\n",
    "        'qubit_hamiltonian': qubit_hamiltonian\n",
    "    }"
   ]
  },
  {
   "cell_type": "code",
   "execution_count": null,
   "metadata": {
    "tags": []
   },
   "outputs": [],
   "source": [
    "from cirq.contrib.svg import SVGCircuit\n",
    "\n",
    "SVGCircuit(H_C)"
   ]
  },
  {
   "cell_type": "code",
   "execution_count": 10,
   "metadata": {
    "id": "6ZAvEVsT0ALv",
    "tags": []
   },
   "outputs": [],
   "source": [
    "def genetic_algorithm(weights, gen_size= 50, epochs=10, qubits=8, percentage=0.1, top_k=3):\n",
    "    assert top_k < gen_size, \"top_k must be less than gen_size\"\n",
    "    \n",
    "    def num_g(r, n = 3, s=2):\n",
    "        import math as m\n",
    "\n",
    "        sigmoid = lambda x: 1 / (1 + m.exp(-x))\n",
    "        return m.floor((n + 0.5) * sigmoid(s * m.e * (r - ((0.25) ** (1/s)))))\n",
    "\n",
    "    current_generation = []\n",
    "    for _ in range(gen_size):\n",
    "        g = Gene([], qubits)\n",
    "\n",
    "        for _ in range(num_g(rand.random(), qubits // 2, s=4)):\n",
    "            gate = rand.randint(0, 5)\n",
    "            open_qubits = list(range(qubits))\n",
    "            q1 = open_qubits.pop(npr.choice(open_qubits))\n",
    "            q2 = npr.choice(open_qubits) if gate >= 4 else None\n",
    "\n",
    "            qbts = (q1, q2) if gate >= 4 else (q1,)\n",
    "\n",
    "            # give it a EXPLORE ** 2 to add a new parameter yk\n",
    "            parameter = rand.randint(0, g.p) if npr.choice([False, True], p=[EXPLORE ** 2, 1 - (EXPLORE ** 2)]) else g.p + 1\n",
    "\n",
    "            g.add_gate(Gate(\n",
    "                gate,\n",
    "                qbts,\n",
    "                parameter\n",
    "            ))\n",
    "\n",
    "        current_generation.append(g)\n",
    "\n",
    "    for epoch in range(epochs):\n",
    "        if epoch % (epochs // 2) == 0:\n",
    "            print(f\"Epoch {epoch} for {weights}:\")\n",
    "\n",
    "        total_fitness = []\n",
    "        for ngene in range(len(current_generation)):\n",
    "            total_fitness.append(current_generation[ngene].evaluate([0.5 * np.pi for _ in range(current_generation[ngene].p + 1)], W=weights))\n",
    "\n",
    "        combined_array = zip(current_generation, total_fitness)\n",
    "        sorted_array = sorted(combined_array, key=lambda x: x[1])\n",
    "\n",
    "        # select PERCENTAGE% of current_generation with highest fitness\n",
    "        selected = [x[0] for x in sorted_array[int(-percentage* gen_size):]]\n",
    "        \n",
    "        if epoch % (epochs // 2) == 0:\n",
    "            print(f\"Max fitness is: ({sorted_array[-1][0]}, {sorted_array[-1][1]})\")\n",
    "            print(\"------\")\n",
    "\n",
    "        current_generation.clear() # yay\n",
    "\n",
    "        for gene in selected: # aw :(\n",
    "            for _ in range(int(gen_size / (percentage * 100))):\n",
    "                current_generation.append(gene.mutate())\n",
    "\n",
    "    return selected[:-(top_k - 1)]\n",
    "\n",
    "def valuation(weights):\n",
    "\n",
    "    print(\"==========\")\n",
    "    \n",
    "    w = [str(round(weights[i], rounding)) for i in range(len(weights))]\n",
    "    key = ','.join([f\"{'0' * ((3 + rounding) - len(w[i]))}\" + w[i] for i in range(len(w))])\n",
    "    \n",
    "    if key in known_v:\n",
    "        print(f\"\\n[FOUND] Valuation for {weights}: {known_v[key]}, found under {key}\\n\")\n",
    "        print(\"==========\")\n",
    "        \n",
    "        return known_v[key]\n",
    "    \n",
    "    k_genes = genetic_algorithm(weights)\n",
    "    \n",
    "    print(len(k_genes))\n",
    "    \n",
    "    runs = []\n",
    "    simulator = cirq.Simulator()\n",
    "\n",
    "    for gene in k_genes:\n",
    "        \n",
    "        def cost_function(parameters, molecule):\n",
    "            energy = compute_energy(gene, parameters, computed_mols[molecule]['qubit_hamiltonian'], simulator)\n",
    "            # if isinstance(energy, complex) or (hasattr(energy, \"dtype\") and np.iscomplex(energy).any()):\n",
    "            #     return np.real(energy)  # or np.real(result)\n",
    "            return energy\n",
    "        \n",
    "        print(gene)\n",
    "        \n",
    "        for _ in range(estimation_iters):\n",
    "            result = minimize(\n",
    "                lambda x: cost_function(x, 'LiH'),\n",
    "                [npr.random() * 2 * np.pi for _ in range(gene.p + 1)]\n",
    "            )\n",
    "            \n",
    "            print(result.fun)\n",
    "\n",
    "            runs.append(result.fun + result.nfev * 0.25) # take the combined number of iterations to convergence + function value\n",
    "\n",
    "    known_v[key] = sum(runs) / len(runs)\n",
    "    \n",
    "    print(f\"\\n[CALCULATION] Valuation for {weights}: {known_v[key]}, stored under {key}\")\n",
    "    print(\"==========\")\n",
    "\n",
    "    return known_v[key]"
   ]
  },
  {
   "cell_type": "code",
   "execution_count": 20,
   "metadata": {
    "tags": []
   },
   "outputs": [
    {
     "name": "stdout",
     "output_type": "stream",
     "text": [
      "==========\n",
      "Epoch 0 for [10.0, 100.0, 100.0, 100.0]:\n",
      "Max fitness is: (Gene(Gate(Ry, (4,), 0), Gate(CNOT, (2, 6), 0), Gate(H, (2,), 0), Gate(Ry, (3,), 0)), -328.272245011303)\n",
      "------\n",
      "Epoch 5 for [10.0, 100.0, 100.0, 100.0]:\n",
      "Max fitness is: (Gene(Gate(Ry, (4,), 0), Gate(CNOT, (2, 6), 0), Gate(H, (2,), 0), Gate(Ry, (3,), 0), Gate(H, (1,), 0), Gate(RZZ, (6, 3), 0), Gate(Rx, (0,), 0), Gate(Rx, (7,), 0)), -28.220413938393335)\n",
      "------\n",
      "3\n",
      "Gene(Gate(Ry, (4,), 0), Gate(CNOT, (2, 6), 0), Gate(H, (2,), 0), Gate(Ry, (3,), 0), Gate(H, (1,), 0), Gate(RZZ, (6, 3), 0), Gate(Rx, (0,), 0), Gate(Rx, (7,), 0), Gate(H, (4,), 0), Gate(H, (2,), 0), Gate(RZZ, (3, 0), 0), Gate(Ry, (6,), 1), Gate(Ry, (4,), 1))\n",
      "-4.135867179465939\n",
      "-4.135867179465939\n",
      "-4.135867179465939\n",
      "-4.135867179465939\n",
      "-4.135867179465939\n",
      "Gene(Gate(CNOT, (2, 6), 0), Gate(H, (2,), 0), Gate(Ry, (3,), 0), Gate(H, (1,), 0), Gate(RZZ, (6, 3), 0), Gate(Rx, (0,), 0), Gate(Rx, (7,), 0), Gate(Rx, (4,), 2), Gate(H, (2,), 0), Gate(CNOT, (3, 0), 1), Gate(H, (6,), 1))\n",
      "-4.135867179465939\n",
      "-4.135867179465939\n",
      "-4.135867179465939\n",
      "-4.135867179465939\n",
      "-4.135867179465939\n",
      "Gene(Gate(Ry, (4,), 0), Gate(CNOT, (2, 6), 2), Gate(H, (2,), 0), Gate(Ry, (3,), 0), Gate(H, (1,), 0), Gate(RZZ, (6, 3), 0), Gate(Rx, (0,), 0), Gate(Rx, (7,), 0), Gate(Rx, (4,), 2), Gate(Rx, (2,), 0), Gate(RZZ, (3, 0), 1), Gate(H, (6,), 1))\n",
      "-4.135867179465939\n",
      "-4.135867179465939\n",
      "-4.135867179465939\n",
      "-4.135867179465939\n",
      "-4.135867179465939\n",
      "\n",
      "[CALCULATION] Valuation for [10.0, 100.0, 100.0, 100.0]: -3.219200512799273, stored under 010.0,100.0,100.0,100.0\n",
      "==========\n"
     ]
    }
   ],
   "source": [
    "valuation([1e1, 1e2, 1e2, 1e2])\n",
    "known_v = {}"
   ]
  },
  {
   "cell_type": "code",
   "execution_count": null,
   "metadata": {
    "id": "OwMO6ueKv2WF",
    "scrolled": true,
    "tags": []
   },
   "outputs": [],
   "source": [
    "import numpy as np\n",
    "\n",
    "W_1 = np.random.uniform(W_bounds[0][0], W_bounds[0][1], p_max)\n",
    "W_2 = np.random.uniform(W_bounds[1][0], W_bounds[1][1], p_max)\n",
    "W_3 = np.random.uniform(W_bounds[2][0], W_bounds[2][1], p_max)\n",
    "W_4 = np.random.uniform(W_bounds[3][0], W_bounds[3][1], p_max)\n",
    "\n",
    "def random_velocity():\n",
    "    r = []\n",
    "    \n",
    "    for i in range(4):\n",
    "        r.append(rand.uniform(-1 * abs(W_bounds[i][1] - W_bounds[i][0]), abs(W_bounds[i][1] - W_bounds[i][0]) ))\n",
    "    \n",
    "    return r\n",
    "\n",
    "# for p \\in P, p = [x, v, [ b, f(b) ] ]\n",
    "\n",
    "particles = [ [ [W_1[i], W_2[i], W_3[i], W_4[i]], random_velocity(), [ [W_1[i], W_2[i], W_3[i], W_4[i]] , 0] ] for i in range(p_max)] # best is same as current position\n",
    "\n",
    "for i in range(len(particles)):\n",
    "    fitness = valuation(particles[i][0])\n",
    "    if fitness < swarm_max[1]:\n",
    "        swarm_max[0] = particles[i][0]\n",
    "        swarm_max[1] = fitness\n",
    "\n",
    "    particles[i][2][1] = fitness # initialize best fitness result\n",
    "    print(\"\")"
   ]
  },
  {
   "cell_type": "code",
   "execution_count": null,
   "metadata": {
    "scrolled": true,
    "tags": []
   },
   "outputs": [],
   "source": [
    "T = 0\n",
    "\n",
    "while T < iters:\n",
    "    for i in range(len(particles)):\n",
    "        for d in range(len(particles[i][0])):\n",
    "            r_p, r_g = (rand.random(), rand.random())\n",
    "            particles[i][1][d] = inertia * particles[i][1][d] + phi_p * r_p * (particles[i][2][0][d] - particles[i][0][d]) + phi_g * r_g * (swarm_max[0][d] - particles[i][0][d])\n",
    "            \n",
    "        for d in range(len(particles[i][0])):\n",
    "            particles[i][0][d] += particles[i][1][d]\n",
    "        \n",
    "        fitness = valuation(particles[i][0])\n",
    "        \n",
    "        if fitness < particles[i][2][1]:\n",
    "            particles[i][2][0] = particles[i][0]\n",
    "            particles[i][2][1] = fitness\n",
    "            \n",
    "            if fitness < swarm_max[1]:\n",
    "                swarm_max[0] = particles[i][0]\n",
    "                swarm_max[1] = fitness\n",
    "                print(f\"NEW SWARM MAX: {fitness} @ {particles[i][0]}\")"
   ]
  }
 ],
 "metadata": {
  "colab": {
   "provenance": []
  },
  "kernelspec": {
   "display_name": "Python 3 (ipykernel)",
   "language": "python",
   "name": "python3"
  },
  "language_info": {
   "codemirror_mode": {
    "name": "ipython",
    "version": 3
   },
   "file_extension": ".py",
   "mimetype": "text/x-python",
   "name": "python",
   "nbconvert_exporter": "python",
   "pygments_lexer": "ipython3",
   "version": "3.10.10"
  }
 },
 "nbformat": 4,
 "nbformat_minor": 4
}
